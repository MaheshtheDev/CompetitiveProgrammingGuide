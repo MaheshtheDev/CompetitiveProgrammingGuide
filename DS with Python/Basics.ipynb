{
 "metadata": {
  "language_info": {
   "codemirror_mode": {
    "name": "ipython",
    "version": 3
   },
   "file_extension": ".py",
   "mimetype": "text/x-python",
   "name": "python",
   "nbconvert_exporter": "python",
   "pygments_lexer": "ipython3",
   "version": "3.8.2"
  },
  "orig_nbformat": 2,
  "kernelspec": {
   "name": "python3",
   "display_name": "Python 3.8.2 64-bit"
  },
  "metadata": {
   "interpreter": {
    "hash": "31f2aee4e71d21fbe5cf8b01ff0e069b9275f58929596ceb00d14d90e3e16cd6"
   }
  },
  "interpreter": {
   "hash": "31f2aee4e71d21fbe5cf8b01ff0e069b9275f58929596ceb00d14d90e3e16cd6"
  }
 },
 "nbformat": 4,
 "nbformat_minor": 2,
 "cells": [
  {
   "cell_type": "markdown",
   "source": [
    "## Table of Contents\n",
    "### 1. Imports\n",
    "### 2. Basic Data Types\n",
    "### 3. Math\n",
    "### 4. Comparisons and Boolean Operations\n",
    "### 5. Conditional Statements\n",
    "### 6. Lists\n",
    "### 7. Tuples\n",
    "### 8. Strings\n",
    "### 9. Dictionaries\n",
    "### 10. Sets\n",
    "### 11. Defining Functions\n",
    "### 12. Lambda Expressions\n",
    "### 13. For Loops and While Loops\n",
    "### 14. Comprehensions\n",
    "### 15. Map, Filter, and Reduce"
   ],
   "metadata": {}
  },
  {
   "cell_type": "code",
   "execution_count": null,
   "source": [
    "# `generic import` of math module\n",
    "import math\n",
    "math.sqrt(25)\n",
    "\n",
    "# import a function\n",
    "from math import sqrt\n",
    "print(sqrt(25)) # no longer have to reference the module\n",
    "\n",
    "# import a multiple function at once\n",
    "from math import cos, sin, pi, floor\n",
    "\n",
    "# import all functions in a module (generally discouraged)\n",
    "from csv import *\n",
    "\n",
    "# define an alias\n",
    "import datetime as dt\n",
    "\n",
    "# show all functions in math module\n",
    "dir(math)"
   ],
   "outputs": [],
   "metadata": {}
  },
  {
   "cell_type": "code",
   "execution_count": null,
   "source": [
    "### DATA TYPES ###\n",
    "\n",
    "# determine the type of an object\n",
    "print(type(2))\n",
    "print(type(2.0))\n",
    "print(type(2 + 2j))\n",
    "print(type(True))\n",
    "print(type('two'))\n",
    "print(type(None))\n",
    "\n",
    "# check if an object is of a given type\n",
    "isinstance(2.0, int)\n",
    "isinstance(2.0, (int, float))\n",
    "\n",
    "# convert an object to a given type\n",
    "float(2)\n",
    "int(2.9)\n",
    "str(2.9)\n",
    "\n",
    "# zero, None, and empty containers are converted to False\n",
    "bool(0)\n",
    "bool(None)\n",
    "bool('')    # empty string\n",
    "bool([])    # empty list\n",
    "bool({})    # empty dictionary\n",
    "\n",
    "# non-empty containers and non-zeros are converted to True\n",
    "bool(2)\n",
    "bool('two')\n",
    "bool([2])"
   ],
   "outputs": [],
   "metadata": {}
  },
  {
   "cell_type": "code",
   "execution_count": null,
   "source": [
    "### COMPARISONS AND BOOLEAN OPERATORS ###\n",
    "\n",
    "# assignment statement\n",
    "x = 5\n",
    "\n",
    "# comparison (these return True)\n",
    "x > 3\n",
    "x >= 3\n",
    "x != 3\n",
    "x == 5\n",
    "\n",
    "# boolean operations (these return True)\n",
    "5 > 3 and 6 > 3\n",
    "5 > 3 or 5 < 3\n",
    "not False\n",
    "False or not False and True     # evaluation order: not, and, or"
   ],
   "outputs": [],
   "metadata": {}
  }
 ]
}