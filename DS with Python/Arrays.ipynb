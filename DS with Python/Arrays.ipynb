{
 "metadata": {
  "language_info": {
   "codemirror_mode": {
    "name": "ipython",
    "version": 3
   },
   "file_extension": ".py",
   "mimetype": "text/x-python",
   "name": "python",
   "nbconvert_exporter": "python",
   "pygments_lexer": "ipython3",
   "version": "3.8.2"
  },
  "orig_nbformat": 2,
  "kernelspec": {
   "name": "python3",
   "display_name": "Python 3.8.2 64-bit"
  },
  "metadata": {
   "interpreter": {
    "hash": "31f2aee4e71d21fbe5cf8b01ff0e069b9275f58929596ceb00d14d90e3e16cd6"
   }
  },
  "interpreter": {
   "hash": "31f2aee4e71d21fbe5cf8b01ff0e069b9275f58929596ceb00d14d90e3e16cd6"
  }
 },
 "nbformat": 4,
 "nbformat_minor": 2,
 "cells": [
  {
   "cell_type": "code",
   "execution_count": null,
   "source": [
    "class Array(object):\n",
    "    ''' sizeOfArray: denotes the total size of the array to be initialized\n",
    "       arrayType: denotes the data type of the array(as all the elements of the array have same data type)\n",
    "       arrayItems: values at each position of array\n",
    "    '''\n",
    "    def __init__(self, sizeOfArray, arrayType = int):\n",
    "        self.sizeOfArray = len(list(map(arrayType, range(sizeOfArray)))) \n",
    "        self.arrayItems = [arrayType(0)] * sizeOfArray\n",
    "        self.arrayType = arrayType\n",
    "    \n",
    "    def __str__(self):\n",
    "        return ' '.join([str(i) for i in self.arrayItems])\n",
    "    \n",
    "    def __len__(self):\n",
    "        return len(self.arrayItems)\n",
    "\n",
    "    # magic methods to enable indexing\n",
    "    def __setitem__(self, index, data):\n",
    "        self.arrayItems[index] = data\n",
    "\n",
    "    def __getitem__(self, index):\n",
    "        return self.arrayItems[index]\n",
    "    \n",
    "    # function to search item in the array\n",
    "    def search(self, keyToSearch):\n",
    "        for i in range(self.sizeOfArray):\n",
    "            if (self.arrayItems[i] == keyToSearch):\n",
    "                return i\n",
    "        return -1\n",
    "    \n",
    "    def insert(self, keyToInsert, position):\n",
    "        if(self.sizeOfArray > position):\n",
    "            for i in range(self.sizeOfArray - 2, position - 1, -1):\n",
    "                self.arrayItems[i + 1] = self.arrayItems[i]\n",
    "            self.arrayItems[position] = keyToInsert\n",
    "        else:\n",
    "            print('Array Size is:', self.sizeOfArray);\n",
    "    \n",
    "    # function to delete item in the array\n",
    "    def delete(self, keyToDelete):\n",
    "        itemFound = false\n",
    "        for i in range(0, self.sizeOfArray):\n",
    "            if self.arrayItems[i] == keyToDelete or itemFound:\n",
    "                self.arrayItems[i] = self.arrayItems[i+1]\n",
    "                itemFound = true\n",
    "    \n",
    "if __name__ == '__main__':\n",
    "  a = Array(10, int)\n",
    "  a.insert(2,2)\n",
    "  a.insert(3,1)\n",
    "  a.insert(5,5)\n",
    "  print(str(a))\n"
   ],
   "outputs": [
    {
     "output_type": "stream",
     "name": "stdout",
     "text": [
      "0 3 0 2 0 5 0 0 0 0\n"
     ]
    }
   ],
   "metadata": {}
  },
  {
   "cell_type": "code",
   "execution_count": 4,
   "source": [
    "array = [1,2,3,4,5,6,7,8,9,0]\n",
    "def reverse_array(array):\n",
    "    for i in range(len(array)//2):\n",
    "        array[i], array[len(array)-i-1] = array[len(array)-i-1], array[i]\n",
    "reverse_array(array)\n",
    "print(array)"
   ],
   "outputs": [
    {
     "output_type": "stream",
     "name": "stdout",
     "text": [
      "None\n"
     ]
    }
   ],
   "metadata": {}
  },
  {
   "cell_type": "code",
   "execution_count": null,
   "source": [],
   "outputs": [],
   "metadata": {}
  }
 ]
}